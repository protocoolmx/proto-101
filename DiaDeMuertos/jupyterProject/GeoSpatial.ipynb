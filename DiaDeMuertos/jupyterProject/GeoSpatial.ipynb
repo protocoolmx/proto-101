{
 "cells": [
  {
   "cell_type": "code",
   "execution_count": 3,
   "metadata": {
    "collapsed": false
   },
   "outputs": [],
   "source": [
    "# Librerias.\n",
    "\n",
    "import ipyleaflet as ll\n",
    "import json\n",
    "from ipywidgets import widgets\n",
    "from IPython.display import display"
   ]
  },
  {
   "cell_type": "code",
   "execution_count": 4,
   "metadata": {
    "collapsed": false
   },
   "outputs": [
    {
     "name": "stdout",
     "output_type": "stream",
     "text": [
      "Latitud 29°05′4.51″N\n",
      "grados: 29.0 minutos: 5.0 segundos: 4.51\n",
      "\n",
      "\n",
      "Longitud 110°58′13.37″W\n",
      "grados: 110.0 minutos: 58.0 segundos: 13.37\n",
      "\n",
      "\n",
      "Latitud grados deciamales 29.0845861111\n",
      "Longitud grados deciamales -110.970380556\n"
     ]
    }
   ],
   "source": [
    "# Conversion grados minutos segundos a grados deciamales.\n",
    "\n",
    "lat = \"29°05′4.51″N\"  \n",
    "lon = \"110°58′13.37″W\"\n",
    "\n",
    "gradosLat = float(lat[0:lat.find(\"°\")])\n",
    "minutosLat = float(lat[lat.find(\"°\") + 2:lat.find(\"′\")])\n",
    "segundosLat = float(lat[lat.find(\"′\") + 3:lat.find(\"″\")])\n",
    "\n",
    "gradosLon = float(lon[0:lon.find(\"°\")])\n",
    "minutosLon = float(lon[lon.find(\"°\") + 2:lon.find(\"′\")])\n",
    "segundosLon = float(lon[lon.find(\"′\") + 3:lon.find(\"″\")])\n",
    "\n",
    "print \"Latitud\", lat \n",
    "print \"grados:\", gradosLat, \"minutos:\", minutosLat, \"segundos:\", segundosLat\n",
    "print \"\\n\"\n",
    "\n",
    "print \"Longitud\", lon\n",
    "print \"grados:\", gradosLon, \"minutos:\", minutosLon, \"segundos:\", segundosLon\n",
    "print \"\\n\"\n",
    "\n",
    "gradosDecimalesLat = gradosLat + minutosLat/60.0 + segundosLat/3600\n",
    "gradosDecimalesLon = gradosLon + minutosLon/60.0 + segundosLon/3600\n",
    "\n",
    "gradosDecimalesLat = gradosDecimalesLat if \"N\" in lat else gradosDecimalesLat  * -1\n",
    "gradosDecimalesLon = gradosDecimalesLon if \"E\" in lat else gradosDecimalesLon  * -1\n",
    "\n",
    "print \"Latitud grados deciamales\", gradosDecimalesLat\n",
    "print \"Longitud grados deciamales\", gradosDecimalesLon"
   ]
  },
  {
   "cell_type": "code",
   "execution_count": 43,
   "metadata": {
    "collapsed": false
   },
   "outputs": [],
   "source": [
    "# Cargar archivos geojson: puntos, lineas y poligono.\n",
    "\n",
    "with open('layers/puntos.geojson') as f:\n",
    "    dataPuntos = json.load(f)\n",
    "\n",
    "with open('layers/lineas.geojson') as f:\n",
    "    dataLineas = json.load(f)\n",
    "    \n",
    "with open('layers/poligonos.geojson') as f:\n",
    "    dataPoligonos = json.load(f)\n",
    "\n",
    "added=None"
   ]
  },
  {
   "cell_type": "code",
   "execution_count": 44,
   "metadata": {
    "collapsed": false
   },
   "outputs": [],
   "source": [
    "# Crear capas de punto, lineas y poligonos para ser selecionados.\n",
    "map = ll.Map(center=[gradosDecimalesLat, gradosDecimalesLon], zoom=17)\n",
    "\n",
    "layerPuntos = ll.GeoJSON(data=dataPuntos)\n",
    "layerLineas = ll.GeoJSON(data=dataLineas)\n",
    "layerPoligonos = ll.GeoJSON(data=dataPoligonos)\n",
    "\n",
    "w = widgets.Dropdown(options={'Puntos': layerPuntos, 'Lineas': layerLineas, 'Poligonos': layerPoligonos},description='Capas:',)\n",
    "display(w)\n"
   ]
  },
  {
   "cell_type": "code",
   "execution_count": 54,
   "metadata": {
    "collapsed": false
   },
   "outputs": [],
   "source": [
    "# Agregar capa selecionada al mapa.\n",
    "if added:\n",
    "    map.remove_layer(added)\n",
    "\n",
    "map.add_layer(w.value)\n",
    "added = w.value\n",
    "\n",
    "map"
   ]
  }
 ],
 "metadata": {
  "kernelspec": {
   "display_name": "Python 2",
   "language": "python",
   "name": "python2"
  },
  "language_info": {
   "codemirror_mode": {
    "name": "ipython",
    "version": 2
   },
   "file_extension": ".py",
   "mimetype": "text/x-python",
   "name": "python",
   "nbconvert_exporter": "python",
   "pygments_lexer": "ipython2",
   "version": "2.7.12"
  },
  "widgets": {
   "state": {
    "15b57d293c9e44e392d9a3acb6b5c8cb": {
     "views": [
      {
       "cell_index": 3
      }
     ]
    },
    "637906c5171e4592a0d3b7a6d742943b": {
     "views": [
      {
       "cell_index": 3
      }
     ]
    },
    "ab1ec24cd18244a48790ae5169c41d37": {
     "views": [
      {
       "cell_index": 3
      }
     ]
    },
    "b76917f77d6d43c4aa0573a44c7e0a0d": {
     "views": [
      {
       "cell_index": 4
      }
     ]
    },
    "dd56a71f561e48a39e5d6a81a28fb5e6": {
     "views": [
      {
       "cell_index": 3
      }
     ]
    }
   },
   "version": "1.2.0"
  }
 },
 "nbformat": 4,
 "nbformat_minor": 2
}
