{
 "cells": [
  {
   "cell_type": "code",
   "execution_count": 73,
   "metadata": {
    "collapsed": false
   },
   "outputs": [],
   "source": [
    "# Librerias.\n",
    "\n",
    "import ipyleaflet as ll\n",
    "import json"
   ]
  },
  {
   "cell_type": "code",
   "execution_count": 49,
   "metadata": {
    "collapsed": false
   },
   "outputs": [
    {
     "name": "stdout",
     "output_type": "stream",
     "text": [
      "Latitud 29°05′44″N\n",
      "grados: 29.0 minutos: 5.0 segundos: 44.0\n",
      "\n",
      "\n",
      "Longitud 110°57′03″W\n",
      "grados: 110.0 minutos: 57.0 segundos: 3.0\n",
      "\n",
      "\n",
      "Latitud grados deciamales 29.0955555556\n",
      "Longitud grados deciamales -110.950833333\n"
     ]
    }
   ],
   "source": [
    "# Conversion grados minutos segundos a grados deciamales.\n",
    "\n",
    "lat = \"29°05′44″N\" \n",
    "lon = \"110°57′03″W\"\n",
    "\n",
    "gradosLat = float(lat[0:lat.find(\"°\")])\n",
    "minutosLat = float(lat[lat.find(\"°\") + 2:lat.find(\"′\")])\n",
    "segundosLat = float(lat[lat.find(\"′\") + 3:lat.find(\"″\")])\n",
    "\n",
    "gradosLon = float(lon[0:lon.find(\"°\")])\n",
    "minutosLon = float(lon[lon.find(\"°\") + 2:lon.find(\"′\")])\n",
    "segundosLon = float(lon[lon.find(\"′\") + 3:lon.find(\"″\")])\n",
    "\n",
    "print \"Latitud\", lat \n",
    "print \"grados:\", gradosLat, \"minutos:\", minutosLat, \"segundos:\", segundosLat\n",
    "print \"\\n\"\n",
    "\n",
    "print \"Longitud\", lon\n",
    "print \"grados:\", gradosLon, \"minutos:\", minutosLon, \"segundos:\", segundosLon\n",
    "print \"\\n\"\n",
    "\n",
    "gradosDecimalesLat = gradosLat + minutosLat/60.0 + segundosLat/3600\n",
    "gradosDecimalesLon = gradosLon + minutosLon/60.0 + segundosLon/3600\n",
    "\n",
    "gradosDecimalesLat = gradosDecimalesLat if \"N\" in lat else gradosDecimalesLat  * -1\n",
    "gradosDecimalesLon = gradosDecimalesLon if \"E\" in lat else gradosDecimalesLon  * -1\n",
    "\n",
    "print \"Latitud grados deciamales\", gradosDecimalesLat\n",
    "print \"Longitud grados deciamales\", gradosDecimalesLon"
   ]
  },
  {
   "cell_type": "code",
   "execution_count": 78,
   "metadata": {
    "collapsed": false
   },
   "outputs": [],
   "source": [
    "# Cargar capas puntos, lineas y poligono.\n",
    "\n",
    "with open('layers/puntos.geojson') as f:\n",
    "    dataPuntos = json.load(f)\n",
    "\n",
    "with open('layers/lineas.geojson') as f:\n",
    "    dataLineas = json.load(f)\n",
    "    \n",
    "with open('layers/poligonos.geojson') as f:\n",
    "    dataPoligonos = json.load(f)"
   ]
  },
  {
   "cell_type": "code",
   "execution_count": 80,
   "metadata": {
    "collapsed": false
   },
   "outputs": [],
   "source": [
    "# Añadir capas de punto, lineas y poligonos al mapa.\n",
    "map = ll.Map(center=[gradosDecimalesLat, gradosDecimalesLon], zoom=11)\n",
    "\n",
    "layerPuntos = ll.GeoJSON(data=dataPuntos)\n",
    "layerLineas = ll.GeoJSON(data=dataLineas)\n",
    "layerPoligonos = ll.GeoJSON(data=dataPoligonos)\n",
    "\n",
    "map.add_layer(layerPuntos)\n",
    "map.add_layer(layerLineas)\n",
    "map.add_layer(layerPoligonos)\n",
    "\n",
    "map"
   ]
  }
 ],
 "metadata": {
  "kernelspec": {
   "display_name": "Python 2",
   "language": "python",
   "name": "python2"
  },
  "language_info": {
   "codemirror_mode": {
    "name": "ipython",
    "version": 2
   },
   "file_extension": ".py",
   "mimetype": "text/x-python",
   "name": "python",
   "nbconvert_exporter": "python",
   "pygments_lexer": "ipython2",
   "version": "2.7.12"
  },
  "widgets": {
   "state": {
    "21bf81fa8d504396b378f5c9e76f958b": {
     "views": [
      {
       "cell_index": 3
      }
     ]
    }
   },
   "version": "1.2.0"
  }
 },
 "nbformat": 4,
 "nbformat_minor": 2
}
